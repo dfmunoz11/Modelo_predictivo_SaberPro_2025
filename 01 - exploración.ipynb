# =====================================================
# Exploración de datos - UDEA AI4ENG 20252
# Pruebas Saber Pro - IA para ingenierías
# =====================================================

# Configurar el entorno
!pip install -q kaggle pandas seaborn matplotlib

import os
import pandas as pd
import matplotlib.pyplot as plt
import seaborn as sns

# Cargar credenciales de Kaggle
# El archivo kaggle.json se carga desde el pc 
from google.colab import files
files.upload() # <- Esta linea nos pide subir el archivo
!mkdir -p ~/.kaggle
!cp kaggle.json ~/.kaggle/
!chmod 600 ~/.kaggle/kaggle.json

# Descargar los datos 
!kaggle competitions download -c udea-ai-4-eng-20252-pruebas-saber-pro-colombia

# Descomprimir el archivo zip
!unzip -o udea-ai-4-eng-20252-pruebas-saber-pro-colombia.zip -d data

# Carga del archivo train.csv
train_path = os.path.join("data", "train.csv")
df = pd.read_csv(train_path)

# Exploración inicial
print("Dimensiones del conjunto de datos:", df.shape)
df.head()

# Información general
df.info()

# Muestra de cuántas clases de rendimiento hay
print("\nDistribución de clases (RENDIMIENTO_GLOBAL):")
print(df['RENDIMIENTO_GLOBAL'].value_counts())

# Visualización del número de estudiantes por nivel de rendimiento
plt.figure(figsize=(6,4))
sns.countplot(y='RENDIMIENTO_GLOBAL', data=df, order=df['RENDIMIENTO_GLOBAL'].value_counts().index)
plt.title("Distribución de RENDIMIENTO_GLOBAL")
plt.xlabel("Número de estudiantes")
plt.ylabel("Nivel de rendimiento")
plt.show()

# Exploración por localidad (comprobar si la columna existe)
if 'ESTU_COD_RESIDE_DEPTO' in df.columns:
    plt.figure(figsize=(8,5))
    top_localidades = df['ESTU_COD_RESIDE_DEPTO'].value_counts().head(10)
    sns.barplot(x=top_localidades.values, y=top_localidades.index)
    plt.title("Top 10 Departamentos por número de estudiantes")
    plt.xlabel("Número de estudiantes")
    plt.ylabel("Departamento")
    plt.show()

# Estadísticas básicas
df.describe(include='all').transpose().head(10)
